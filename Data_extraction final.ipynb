{
 "cells": [
  {
   "cell_type": "code",
   "execution_count": 1,
   "id": "6fa3d85c",
   "metadata": {},
   "outputs": [
    {
     "data": {
      "text/html": [
       "<pre style=\"white-space:pre;overflow-x:auto;line-height:normal;font-family:Menlo,'DejaVu Sans Mono',consolas,'Courier New',monospace\"><span style=\"color: #7fbfbf; text-decoration-color: #7fbfbf\">[11/10/22 13:43:33] </span><span style=\"color: #000080; text-decoration-color: #000080\">INFO    </span> No custom team name replacements found. You can configure these in       <a href=\"file:///opt/homebrew/lib/python3.10/site-packages/soccerdata/_config.py\" target=\"_blank\"><span style=\"color: #7f7f7f; text-decoration-color: #7f7f7f\">_config.py</span></a><span style=\"color: #7f7f7f; text-decoration-color: #7f7f7f\">:</span><a href=\"file:///opt/homebrew/lib/python3.10/site-packages/soccerdata/_config.py#85\" target=\"_blank\"><span style=\"color: #7f7f7f; text-decoration-color: #7f7f7f\">85</span></a>\n",
       "<span style=\"color: #7fbfbf; text-decoration-color: #7fbfbf\">                    </span>         <span style=\"color: #800080; text-decoration-color: #800080\">/Users/animeshsengupta/soccerdata/config/</span><span style=\"color: #ff00ff; text-decoration-color: #ff00ff\">teamname_replacements.json.</span>     <span style=\"color: #7f7f7f; text-decoration-color: #7f7f7f\">             </span>\n",
       "</pre>\n"
      ],
      "text/plain": [
       "\u001b[2;36m[11/10/22 13:43:33]\u001b[0m\u001b[2;36m \u001b[0m\u001b[34mINFO    \u001b[0m No custom team name replacements found. You can configure these in       \u001b]8;id=700522;file:///opt/homebrew/lib/python3.10/site-packages/soccerdata/_config.py\u001b\\\u001b[2m_config.py\u001b[0m\u001b]8;;\u001b\\\u001b[2m:\u001b[0m\u001b]8;id=318493;file:///opt/homebrew/lib/python3.10/site-packages/soccerdata/_config.py#85\u001b\\\u001b[2m85\u001b[0m\u001b]8;;\u001b\\\n",
       "\u001b[2;36m                    \u001b[0m         \u001b[35m/Users/animeshsengupta/soccerdata/config/\u001b[0m\u001b[95mteamname_replacements.json.\u001b[0m     \u001b[2m             \u001b[0m\n"
      ]
     },
     "metadata": {},
     "output_type": "display_data"
    },
    {
     "data": {
      "text/html": [
       "<pre style=\"white-space:pre;overflow-x:auto;line-height:normal;font-family:Menlo,'DejaVu Sans Mono',consolas,'Courier New',monospace\"><span style=\"color: #7fbfbf; text-decoration-color: #7fbfbf\">                    </span><span style=\"color: #000080; text-decoration-color: #000080\">INFO    </span> No custom league dict found. You can configure additional leagues in    <a href=\"file:///opt/homebrew/lib/python3.10/site-packages/soccerdata/_config.py\" target=\"_blank\"><span style=\"color: #7f7f7f; text-decoration-color: #7f7f7f\">_config.py</span></a><span style=\"color: #7f7f7f; text-decoration-color: #7f7f7f\">:</span><a href=\"file:///opt/homebrew/lib/python3.10/site-packages/soccerdata/_config.py#155\" target=\"_blank\"><span style=\"color: #7f7f7f; text-decoration-color: #7f7f7f\">155</span></a>\n",
       "<span style=\"color: #7fbfbf; text-decoration-color: #7fbfbf\">                    </span>         <span style=\"color: #800080; text-decoration-color: #800080\">/Users/animeshsengupta/soccerdata/config/</span><span style=\"color: #ff00ff; text-decoration-color: #ff00ff\">league_dict.json.</span>              <span style=\"color: #7f7f7f; text-decoration-color: #7f7f7f\">              </span>\n",
       "</pre>\n"
      ],
      "text/plain": [
       "\u001b[2;36m                   \u001b[0m\u001b[2;36m \u001b[0m\u001b[34mINFO    \u001b[0m No custom league dict found. You can configure additional leagues in    \u001b]8;id=480019;file:///opt/homebrew/lib/python3.10/site-packages/soccerdata/_config.py\u001b\\\u001b[2m_config.py\u001b[0m\u001b]8;;\u001b\\\u001b[2m:\u001b[0m\u001b]8;id=543918;file:///opt/homebrew/lib/python3.10/site-packages/soccerdata/_config.py#155\u001b\\\u001b[2m155\u001b[0m\u001b]8;;\u001b\\\n",
       "\u001b[2;36m                    \u001b[0m         \u001b[35m/Users/animeshsengupta/soccerdata/config/\u001b[0m\u001b[95mleague_dict.json.\u001b[0m              \u001b[2m              \u001b[0m\n"
      ]
     },
     "metadata": {},
     "output_type": "display_data"
    }
   ],
   "source": [
    "import soccerdata as sd"
   ]
  },
  {
   "cell_type": "code",
   "execution_count": 2,
   "id": "8eb60431",
   "metadata": {},
   "outputs": [],
   "source": [
    "#important Links\n",
    "\n",
    "#https://stackoverflow.com/questions/36806517/pandas-how-to-access-multiindex-dataframe\n",
    "\n",
    "#soccerdata doc link\n",
    "#https://soccerdata.readthedocs.io/en/latest/reference/fbref.html"
   ]
  },
  {
   "cell_type": "code",
   "execution_count": 3,
   "id": "a996a2b3",
   "metadata": {},
   "outputs": [],
   "source": [
    "seasons=[x for x in range(21,22)] #tweak the range to get for multiple seasons"
   ]
  },
  {
   "cell_type": "code",
   "execution_count": 4,
   "id": "f0f2a7f5",
   "metadata": {},
   "outputs": [
    {
     "data": {
      "text/html": [
       "<pre style=\"white-space:pre;overflow-x:auto;line-height:normal;font-family:Menlo,'DejaVu Sans Mono',consolas,'Courier New',monospace\"><span style=\"color: #7fbfbf; text-decoration-color: #7fbfbf\">[11/10/22 13:43:36] </span><span style=\"color: #000080; text-decoration-color: #000080\">INFO    </span> Caching is disabled                                                      <a href=\"file:///opt/homebrew/lib/python3.10/site-packages/soccerdata/_common.py\" target=\"_blank\"><span style=\"color: #7f7f7f; text-decoration-color: #7f7f7f\">_common.py</span></a><span style=\"color: #7f7f7f; text-decoration-color: #7f7f7f\">:</span><a href=\"file:///opt/homebrew/lib/python3.10/site-packages/soccerdata/_common.py#87\" target=\"_blank\"><span style=\"color: #7f7f7f; text-decoration-color: #7f7f7f\">87</span></a>\n",
       "</pre>\n"
      ],
      "text/plain": [
       "\u001b[2;36m[11/10/22 13:43:36]\u001b[0m\u001b[2;36m \u001b[0m\u001b[34mINFO    \u001b[0m Caching is disabled                                                      \u001b]8;id=271432;file:///opt/homebrew/lib/python3.10/site-packages/soccerdata/_common.py\u001b\\\u001b[2m_common.py\u001b[0m\u001b]8;;\u001b\\\u001b[2m:\u001b[0m\u001b]8;id=534912;file:///opt/homebrew/lib/python3.10/site-packages/soccerdata/_common.py#87\u001b\\\u001b[2m87\u001b[0m\u001b]8;;\u001b\\\n"
      ]
     },
     "metadata": {},
     "output_type": "display_data"
    }
   ],
   "source": [
    "fbref = sd.FBref(leagues=\"Big 5 European Leagues Combined\",seasons=seasons, no_cache=True, no_store=True)"
   ]
  },
  {
   "cell_type": "code",
   "execution_count": 15,
   "id": "2bdb063d",
   "metadata": {},
   "outputs": [],
   "source": [
    "shooting=fbref.read_team_season_stats(stat_type='shooting')\n",
    "passing=fbref.read_team_season_stats(stat_type='passing')\n",
    "goal_shot_creation=fbref.read_team_season_stats(stat_type='goal_shot_creation')"
   ]
  },
  {
   "cell_type": "code",
   "execution_count": 21,
   "id": "eb4f4e21",
   "metadata": {},
   "outputs": [
    {
     "name": "stdout",
     "output_type": "stream",
     "text": [
      "MultiIndex([(    '# Pl',        ''),\n",
      "            (     '90s',        ''),\n",
      "            ('Standard',     'Gls'),\n",
      "            ('Standard',      'Sh'),\n",
      "            ('Standard',     'SoT'),\n",
      "            ('Standard',    'SoT%'),\n",
      "            ('Standard',   'Sh/90'),\n",
      "            ('Standard',  'SoT/90'),\n",
      "            ('Standard',    'G/Sh'),\n",
      "            ('Standard',   'G/SoT'),\n",
      "            ('Standard',    'Dist'),\n",
      "            ('Standard',      'FK'),\n",
      "            ('Standard',      'PK'),\n",
      "            ('Standard',   'PKatt'),\n",
      "            ('Expected',      'xG'),\n",
      "            ('Expected',    'npxG'),\n",
      "            ('Expected', 'npxG/Sh'),\n",
      "            ('Expected',    'G-xG'),\n",
      "            ('Expected', 'np:G-xG'),\n",
      "            (     'url',        '')],\n",
      "           )\n"
     ]
    },
    {
     "data": {
      "text/html": [
       "<div>\n",
       "<style scoped>\n",
       "    .dataframe tbody tr th:only-of-type {\n",
       "        vertical-align: middle;\n",
       "    }\n",
       "\n",
       "    .dataframe tbody tr th {\n",
       "        vertical-align: top;\n",
       "    }\n",
       "\n",
       "    .dataframe thead tr th {\n",
       "        text-align: left;\n",
       "    }\n",
       "\n",
       "    .dataframe thead tr:last-of-type th {\n",
       "        text-align: right;\n",
       "    }\n",
       "</style>\n",
       "<table border=\"1\" class=\"dataframe\">\n",
       "  <thead>\n",
       "    <tr>\n",
       "      <th></th>\n",
       "      <th></th>\n",
       "      <th></th>\n",
       "      <th># Pl</th>\n",
       "      <th>90s</th>\n",
       "      <th colspan=\"12\" halign=\"left\">Standard</th>\n",
       "      <th colspan=\"5\" halign=\"left\">Expected</th>\n",
       "      <th>url</th>\n",
       "    </tr>\n",
       "    <tr>\n",
       "      <th></th>\n",
       "      <th></th>\n",
       "      <th></th>\n",
       "      <th></th>\n",
       "      <th></th>\n",
       "      <th>Gls</th>\n",
       "      <th>Sh</th>\n",
       "      <th>SoT</th>\n",
       "      <th>SoT%</th>\n",
       "      <th>Sh/90</th>\n",
       "      <th>SoT/90</th>\n",
       "      <th>G/Sh</th>\n",
       "      <th>G/SoT</th>\n",
       "      <th>Dist</th>\n",
       "      <th>FK</th>\n",
       "      <th>PK</th>\n",
       "      <th>PKatt</th>\n",
       "      <th>xG</th>\n",
       "      <th>npxG</th>\n",
       "      <th>npxG/Sh</th>\n",
       "      <th>G-xG</th>\n",
       "      <th>np:G-xG</th>\n",
       "      <th></th>\n",
       "    </tr>\n",
       "    <tr>\n",
       "      <th>league</th>\n",
       "      <th>season</th>\n",
       "      <th>team</th>\n",
       "      <th></th>\n",
       "      <th></th>\n",
       "      <th></th>\n",
       "      <th></th>\n",
       "      <th></th>\n",
       "      <th></th>\n",
       "      <th></th>\n",
       "      <th></th>\n",
       "      <th></th>\n",
       "      <th></th>\n",
       "      <th></th>\n",
       "      <th></th>\n",
       "      <th></th>\n",
       "      <th></th>\n",
       "      <th></th>\n",
       "      <th></th>\n",
       "      <th></th>\n",
       "      <th></th>\n",
       "      <th></th>\n",
       "      <th></th>\n",
       "    </tr>\n",
       "  </thead>\n",
       "  <tbody>\n",
       "    <tr>\n",
       "      <th rowspan=\"5\" valign=\"top\">ENG-Premier League</th>\n",
       "      <th rowspan=\"5\" valign=\"top\">2122</th>\n",
       "      <th>Arsenal</th>\n",
       "      <td>27</td>\n",
       "      <td>38.0</td>\n",
       "      <td>60</td>\n",
       "      <td>581</td>\n",
       "      <td>186</td>\n",
       "      <td>32.0</td>\n",
       "      <td>15.29</td>\n",
       "      <td>4.89</td>\n",
       "      <td>0.09</td>\n",
       "      <td>0.30</td>\n",
       "      <td>17.8</td>\n",
       "      <td>22</td>\n",
       "      <td>5</td>\n",
       "      <td>8</td>\n",
       "      <td>67.3</td>\n",
       "      <td>62.3</td>\n",
       "      <td>0.11</td>\n",
       "      <td>-7.3</td>\n",
       "      <td>-7.3</td>\n",
       "      <td>/en/squads/18bb7c10/2021-2022/Arsenal-Stats</td>\n",
       "    </tr>\n",
       "    <tr>\n",
       "      <th>Aston Villa</th>\n",
       "      <td>31</td>\n",
       "      <td>38.0</td>\n",
       "      <td>50</td>\n",
       "      <td>461</td>\n",
       "      <td>159</td>\n",
       "      <td>34.5</td>\n",
       "      <td>12.13</td>\n",
       "      <td>4.18</td>\n",
       "      <td>0.10</td>\n",
       "      <td>0.30</td>\n",
       "      <td>17.6</td>\n",
       "      <td>20</td>\n",
       "      <td>3</td>\n",
       "      <td>3</td>\n",
       "      <td>47.9</td>\n",
       "      <td>45.9</td>\n",
       "      <td>0.10</td>\n",
       "      <td>2.1</td>\n",
       "      <td>1.1</td>\n",
       "      <td>/en/squads/8602292d/2021-2022/Aston-Villa-Stats</td>\n",
       "    </tr>\n",
       "    <tr>\n",
       "      <th>Brentford</th>\n",
       "      <td>29</td>\n",
       "      <td>38.0</td>\n",
       "      <td>46</td>\n",
       "      <td>436</td>\n",
       "      <td>141</td>\n",
       "      <td>32.3</td>\n",
       "      <td>11.47</td>\n",
       "      <td>3.71</td>\n",
       "      <td>0.09</td>\n",
       "      <td>0.28</td>\n",
       "      <td>16.3</td>\n",
       "      <td>11</td>\n",
       "      <td>6</td>\n",
       "      <td>6</td>\n",
       "      <td>51.1</td>\n",
       "      <td>46.4</td>\n",
       "      <td>0.11</td>\n",
       "      <td>-5.1</td>\n",
       "      <td>-6.4</td>\n",
       "      <td>/en/squads/cd051869/2021-2022/Brentford-Stats</td>\n",
       "    </tr>\n",
       "    <tr>\n",
       "      <th>Brighton</th>\n",
       "      <td>26</td>\n",
       "      <td>38.0</td>\n",
       "      <td>40</td>\n",
       "      <td>482</td>\n",
       "      <td>141</td>\n",
       "      <td>29.3</td>\n",
       "      <td>12.68</td>\n",
       "      <td>3.71</td>\n",
       "      <td>0.07</td>\n",
       "      <td>0.26</td>\n",
       "      <td>17.7</td>\n",
       "      <td>15</td>\n",
       "      <td>4</td>\n",
       "      <td>7</td>\n",
       "      <td>53.0</td>\n",
       "      <td>47.5</td>\n",
       "      <td>0.10</td>\n",
       "      <td>-13.0</td>\n",
       "      <td>-11.5</td>\n",
       "      <td>/en/squads/d07537b9/2021-2022/Brighton-and-Hov...</td>\n",
       "    </tr>\n",
       "    <tr>\n",
       "      <th>Burnley</th>\n",
       "      <td>23</td>\n",
       "      <td>38.0</td>\n",
       "      <td>32</td>\n",
       "      <td>405</td>\n",
       "      <td>119</td>\n",
       "      <td>29.4</td>\n",
       "      <td>10.66</td>\n",
       "      <td>3.13</td>\n",
       "      <td>0.08</td>\n",
       "      <td>0.26</td>\n",
       "      <td>17.2</td>\n",
       "      <td>14</td>\n",
       "      <td>1</td>\n",
       "      <td>2</td>\n",
       "      <td>43.8</td>\n",
       "      <td>42.8</td>\n",
       "      <td>0.11</td>\n",
       "      <td>-11.8</td>\n",
       "      <td>-11.8</td>\n",
       "      <td>/en/squads/943e8050/2021-2022/Burnley-Stats</td>\n",
       "    </tr>\n",
       "  </tbody>\n",
       "</table>\n",
       "</div>"
      ],
      "text/plain": [
       "                                      # Pl   90s Standard                  \\\n",
       "                                                      Gls   Sh  SoT  SoT%   \n",
       "league             season team                                              \n",
       "ENG-Premier League 2122   Arsenal       27  38.0       60  581  186  32.0   \n",
       "                          Aston Villa   31  38.0       50  461  159  34.5   \n",
       "                          Brentford     29  38.0       46  436  141  32.3   \n",
       "                          Brighton      26  38.0       40  482  141  29.3   \n",
       "                          Burnley       23  38.0       32  405  119  29.4   \n",
       "\n",
       "                                                                              \\\n",
       "                                       Sh/90 SoT/90  G/Sh G/SoT  Dist  FK PK   \n",
       "league             season team                                                 \n",
       "ENG-Premier League 2122   Arsenal      15.29   4.89  0.09  0.30  17.8  22  5   \n",
       "                          Aston Villa  12.13   4.18  0.10  0.30  17.6  20  3   \n",
       "                          Brentford    11.47   3.71  0.09  0.28  16.3  11  6   \n",
       "                          Brighton     12.68   3.71  0.07  0.26  17.7  15  4   \n",
       "                          Burnley      10.66   3.13  0.08  0.26  17.2  14  1   \n",
       "\n",
       "                                            Expected                      \\\n",
       "                                      PKatt       xG  npxG npxG/Sh  G-xG   \n",
       "league             season team                                             \n",
       "ENG-Premier League 2122   Arsenal         8     67.3  62.3    0.11  -7.3   \n",
       "                          Aston Villa     3     47.9  45.9    0.10   2.1   \n",
       "                          Brentford       6     51.1  46.4    0.11  -5.1   \n",
       "                          Brighton        7     53.0  47.5    0.10 -13.0   \n",
       "                          Burnley         2     43.8  42.8    0.11 -11.8   \n",
       "\n",
       "                                               \\\n",
       "                                      np:G-xG   \n",
       "league             season team                  \n",
       "ENG-Premier League 2122   Arsenal        -7.3   \n",
       "                          Aston Villa     1.1   \n",
       "                          Brentford      -6.4   \n",
       "                          Brighton      -11.5   \n",
       "                          Burnley       -11.8   \n",
       "\n",
       "                                                                                     url  \n",
       "                                                                                          \n",
       "league             season team                                                            \n",
       "ENG-Premier League 2122   Arsenal            /en/squads/18bb7c10/2021-2022/Arsenal-Stats  \n",
       "                          Aston Villa    /en/squads/8602292d/2021-2022/Aston-Villa-Stats  \n",
       "                          Brentford        /en/squads/cd051869/2021-2022/Brentford-Stats  \n",
       "                          Brighton     /en/squads/d07537b9/2021-2022/Brighton-and-Hov...  \n",
       "                          Burnley            /en/squads/943e8050/2021-2022/Burnley-Stats  "
      ]
     },
     "execution_count": 21,
     "metadata": {},
     "output_type": "execute_result"
    }
   ],
   "source": [
    "print(shooting.columns)\n",
    "shooting.head(5)"
   ]
  },
  {
   "cell_type": "code",
   "execution_count": 24,
   "id": "2cac9235",
   "metadata": {},
   "outputs": [
    {
     "name": "stderr",
     "output_type": "stream",
     "text": [
      "<>:1: SyntaxWarning: 'tuple' object is not callable; perhaps you missed a comma?\n",
      "<>:1: SyntaxWarning: 'tuple' object is not callable; perhaps you missed a comma?\n",
      "/var/folders/zm/t5q0r2zn06j6v7256cjw7_j80000gn/T/ipykernel_19660/1186870611.py:1: SyntaxWarning: 'tuple' object is not callable; perhaps you missed a comma?\n",
      "  shooting1=shooting[[('team','')('# Pl',        ''),('Standard',      'Sh'), ('Standard',     'SoT'), ('Standard',     'Gls'),('Standard',  'PK'),('Standard',  'FK')]]\n",
      "/var/folders/zm/t5q0r2zn06j6v7256cjw7_j80000gn/T/ipykernel_19660/1186870611.py:1: SyntaxWarning: 'tuple' object is not callable; perhaps you missed a comma?\n",
      "  shooting1=shooting[[('team','')('# Pl',        ''),('Standard',      'Sh'), ('Standard',     'SoT'), ('Standard',     'Gls'),('Standard',  'PK'),('Standard',  'FK')]]\n",
      "/var/folders/zm/t5q0r2zn06j6v7256cjw7_j80000gn/T/ipykernel_19660/1186870611.py:1: SyntaxWarning: 'tuple' object is not callable; perhaps you missed a comma?\n",
      "  shooting1=shooting[[('team','')('# Pl',        ''),('Standard',      'Sh'), ('Standard',     'SoT'), ('Standard',     'Gls'),('Standard',  'PK'),('Standard',  'FK')]]\n"
     ]
    },
    {
     "ename": "TypeError",
     "evalue": "'tuple' object is not callable",
     "output_type": "error",
     "traceback": [
      "\u001b[0;31m---------------------------------------------------------------------------\u001b[0m",
      "\u001b[0;31mTypeError\u001b[0m                                 Traceback (most recent call last)",
      "Cell \u001b[0;32mIn [24], line 1\u001b[0m\n\u001b[0;32m----> 1\u001b[0m shooting1\u001b[38;5;241m=\u001b[39mshooting[[\u001b[43m(\u001b[49m\u001b[38;5;124;43m'\u001b[39;49m\u001b[38;5;124;43mteam\u001b[39;49m\u001b[38;5;124;43m'\u001b[39;49m\u001b[43m,\u001b[49m\u001b[38;5;124;43m'\u001b[39;49m\u001b[38;5;124;43m'\u001b[39;49m\u001b[43m)\u001b[49m\u001b[43m(\u001b[49m\u001b[38;5;124;43m'\u001b[39;49m\u001b[38;5;124;43m# Pl\u001b[39;49m\u001b[38;5;124;43m'\u001b[39;49m\u001b[43m,\u001b[49m\u001b[43m        \u001b[49m\u001b[38;5;124;43m'\u001b[39;49m\u001b[38;5;124;43m'\u001b[39;49m\u001b[43m)\u001b[49m,(\u001b[38;5;124m'\u001b[39m\u001b[38;5;124mStandard\u001b[39m\u001b[38;5;124m'\u001b[39m,      \u001b[38;5;124m'\u001b[39m\u001b[38;5;124mSh\u001b[39m\u001b[38;5;124m'\u001b[39m), (\u001b[38;5;124m'\u001b[39m\u001b[38;5;124mStandard\u001b[39m\u001b[38;5;124m'\u001b[39m,     \u001b[38;5;124m'\u001b[39m\u001b[38;5;124mSoT\u001b[39m\u001b[38;5;124m'\u001b[39m), (\u001b[38;5;124m'\u001b[39m\u001b[38;5;124mStandard\u001b[39m\u001b[38;5;124m'\u001b[39m,     \u001b[38;5;124m'\u001b[39m\u001b[38;5;124mGls\u001b[39m\u001b[38;5;124m'\u001b[39m),(\u001b[38;5;124m'\u001b[39m\u001b[38;5;124mStandard\u001b[39m\u001b[38;5;124m'\u001b[39m,  \u001b[38;5;124m'\u001b[39m\u001b[38;5;124mPK\u001b[39m\u001b[38;5;124m'\u001b[39m),(\u001b[38;5;124m'\u001b[39m\u001b[38;5;124mStandard\u001b[39m\u001b[38;5;124m'\u001b[39m,  \u001b[38;5;124m'\u001b[39m\u001b[38;5;124mFK\u001b[39m\u001b[38;5;124m'\u001b[39m)]]\n\u001b[1;32m      2\u001b[0m \u001b[38;5;28mprint\u001b[39m(shooting1\u001b[38;5;241m.\u001b[39mcolumns)\n\u001b[1;32m      3\u001b[0m \u001b[38;5;66;03m#'league','season','team'\u001b[39;00m\n",
      "\u001b[0;31mTypeError\u001b[0m: 'tuple' object is not callable"
     ]
    }
   ],
   "source": [
    "shooting1=shooting[[('team','')('# Pl',        ''),('Standard',      'Sh'), ('Standard',     'SoT'), ('Standard',     'Gls'),('Standard',  'PK'),('Standard',  'FK')]]\n",
    "print(shooting1.columns)"
   ]
  },
  {
   "cell_type": "code",
   "execution_count": 20,
   "id": "56471ff8",
   "metadata": {},
   "outputs": [
    {
     "name": "stdout",
     "output_type": "stream",
     "text": [
      "MultiIndex([(  '# Pl',        ''),\n",
      "            (   '90s',        ''),\n",
      "            ( 'Total',     'Cmp'),\n",
      "            ( 'Total',     'Att'),\n",
      "            ( 'Total',    'Cmp%'),\n",
      "            ( 'Total', 'TotDist'),\n",
      "            ( 'Total', 'PrgDist'),\n",
      "            ( 'Short',     'Cmp'),\n",
      "            ( 'Short',     'Att'),\n",
      "            ( 'Short',    'Cmp%'),\n",
      "            ('Medium',     'Cmp'),\n",
      "            ('Medium',     'Att'),\n",
      "            ('Medium',    'Cmp%'),\n",
      "            (  'Long',     'Cmp'),\n",
      "            (  'Long',     'Att'),\n",
      "            (  'Long',    'Cmp%'),\n",
      "            (   'Ast',        ''),\n",
      "            (   'xAG',        ''),\n",
      "            (    'xA',        ''),\n",
      "            ( 'A-xAG',        ''),\n",
      "            (    'KP',        ''),\n",
      "            (   '1/3',        ''),\n",
      "            (   'PPA',        ''),\n",
      "            ( 'CrsPA',        ''),\n",
      "            (  'Prog',        ''),\n",
      "            (   'url',        '')],\n",
      "           )\n"
     ]
    }
   ],
   "source": [
    "print(passing.columns)\n",
    "passing.head(5)\n",
    "passing1=passing[[( 'Short',     'Att'),('Medium',     'Att'), (  'Long',     'Att'),]]"
   ]
  },
  {
   "cell_type": "code",
   "execution_count": 25,
   "id": "7fd1ddd4",
   "metadata": {},
   "outputs": [
    {
     "name": "stdout",
     "output_type": "stream",
     "text": [
      "MultiIndex([(     '# Pl',         ''),\n",
      "            (      '90s',         ''),\n",
      "            (      'SCA',      'SCA'),\n",
      "            (      'SCA',    'SCA90'),\n",
      "            ('SCA Types', 'PassLive'),\n",
      "            ('SCA Types', 'PassDead'),\n",
      "            ('SCA Types',     'Drib'),\n",
      "            ('SCA Types',       'Sh'),\n",
      "            ('SCA Types',      'Fld'),\n",
      "            ('SCA Types',      'Def'),\n",
      "            (      'GCA',      'GCA'),\n",
      "            (      'GCA',    'GCA90'),\n",
      "            ('GCA Types', 'PassLive'),\n",
      "            ('GCA Types', 'PassDead'),\n",
      "            ('GCA Types',     'Drib'),\n",
      "            ('GCA Types',       'Sh'),\n",
      "            ('GCA Types',      'Fld'),\n",
      "            ('GCA Types',      'Def'),\n",
      "            (      'url',         '')],\n",
      "           )\n"
     ]
    }
   ],
   "source": [
    "print(goal_shot_creation.columns)\n",
    "goal_shot_creation.head(5)\n",
    "goal_shot_creation=goal_shot_creation[[('GCA Types',     'Drib')]]"
   ]
  },
  {
   "cell_type": "code",
   "execution_count": null,
   "id": "23a089e1",
   "metadata": {},
   "outputs": [],
   "source": [
    "shooting1.to_csv(\"Sample_data/season_stats.csv\",sep=\",\")"
   ]
  }
 ],
 "metadata": {
  "kernelspec": {
   "display_name": "Python 3 (ipykernel)",
   "language": "python",
   "name": "python3"
  },
  "language_info": {
   "codemirror_mode": {
    "name": "ipython",
    "version": 3
   },
   "file_extension": ".py",
   "mimetype": "text/x-python",
   "name": "python",
   "nbconvert_exporter": "python",
   "pygments_lexer": "ipython3",
   "version": "3.10.8"
  }
 },
 "nbformat": 4,
 "nbformat_minor": 5
}
